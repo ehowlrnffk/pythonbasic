{
  "nbformat": 4,
  "nbformat_minor": 0,
  "metadata": {
    "colab": {
      "name": "Python Basic Day4.ipynb",
      "provenance": [],
      "authorship_tag": "ABX9TyO4qmmje7dEBwxwb5io8sB2",
      "include_colab_link": true
    },
    "kernelspec": {
      "name": "python3",
      "display_name": "Python 3"
    },
    "language_info": {
      "name": "python"
    }
  },
  "cells": [
    {
      "cell_type": "markdown",
      "metadata": {
        "id": "view-in-github",
        "colab_type": "text"
      },
      "source": [
        "<a href=\"https://colab.research.google.com/github/ehowlrnffk/pythonbasic/blob/main/Python_Basic_Day4.ipynb\" target=\"_parent\"><img src=\"https://colab.research.google.com/assets/colab-badge.svg\" alt=\"Open In Colab\"/></a>"
      ]
    },
    {
      "cell_type": "code",
      "execution_count": 1,
      "metadata": {
        "colab": {
          "base_uri": "https://localhost:8080/"
        },
        "id": "biGh5XfwzHeM",
        "outputId": "16e89036-16dd-469b-eec3-c23fae327939"
      },
      "outputs": [
        {
          "output_type": "stream",
          "name": "stdout",
          "text": [
            "정수입력 ㄱ45\n",
            "<class 'int'>\n"
          ]
        }
      ],
      "source": [
        "# input 쓸떄 주의해야 할점\n",
        "# input은 모든 입력을 문자형str로 받기떄문에 숫자로 입력해도 문자로 받아들임\n",
        "\n",
        "n= int(input('정수입력 ㄱ'))\n",
        "print(type(n))\n",
        "\n"
      ]
    },
    {
      "cell_type": "code",
      "source": [
        "price = 50000\n",
        "n = int(input('할부 개월 입력 ㄱ:'))\n",
        "print('매달 내는 돈은 {}입니다'.format(price/n))"
      ],
      "metadata": {
        "colab": {
          "base_uri": "https://localhost:8080/"
        },
        "id": "IsXiVeVG0tRG",
        "outputId": "de4427c9-89d4-44db-b089-49eab4b47569"
      },
      "execution_count": 3,
      "outputs": [
        {
          "output_type": "stream",
          "name": "stdout",
          "text": [
            "할부 개월 입력 ㄱ:4\n",
            "매달 내는 돈은 12500.0입니다\n"
          ]
        }
      ]
    },
    {
      "cell_type": "code",
      "source": [
        "n = float(input('첫번쨰 실수 입력 ㄱ:'))\n",
        "a = float(input('두번쨰 ㅅ실수 입력 ㄱ:'))\n",
        "print((a),'와',(n),'의 합은',(a)+(n))\n",
        "print(f'{a}와 {n}의 합은 {a+n}이다')"
      ],
      "metadata": {
        "colab": {
          "base_uri": "https://localhost:8080/"
        },
        "id": "Vn51rPQW1A7D",
        "outputId": "8a366b59-1f86-4c5a-ddcb-93738b3617c5"
      },
      "execution_count": 11,
      "outputs": [
        {
          "output_type": "stream",
          "name": "stdout",
          "text": [
            "첫번쨰 실수 입력 ㄱ:1.23\n",
            "두번쨰 ㅅ실수 입력 ㄱ:2.34\n",
            "2.34 와 1.23 의 합은 3.57\n",
            "2.34와 1.23의 합은 3.57이다\n"
          ]
        }
      ]
    },
    {
      "cell_type": "code",
      "source": [
        "month=[31,28,31,30,31,30,31,31,30,31,30,31]\n",
        "n = int(input('개월 입력 ㄱ:'))\n",
        "print(f'{n}월은 {month[n-1]}까지 입니다')"
      ],
      "metadata": {
        "colab": {
          "base_uri": "https://localhost:8080/"
        },
        "id": "hkEfJb7l2mzv",
        "outputId": "212bda5b-f5b9-4665-a7c6-d1be327e8900"
      },
      "execution_count": 14,
      "outputs": [
        {
          "output_type": "stream",
          "name": "stdout",
          "text": [
            "개월 입력 ㄱ:5\n",
            "5월은 31까지 입니다\n"
          ]
        }
      ]
    },
    {
      "cell_type": "code",
      "source": [
        "english_dict = {\n",
        "    'flower': '꽃',\n",
        "    'fuck' : '시발',\n",
        "    'duck' : '오리'\n",
        "}\n",
        "\n",
        "n = input('영단어 입력 ㄱ')\n",
        "print(f'{n} : {english_dict[n]}')"
      ],
      "metadata": {
        "colab": {
          "base_uri": "https://localhost:8080/"
        },
        "id": "oEkUclvi4WRY",
        "outputId": "fc7640c6-df30-4473-a331-b13e6e5c0969"
      },
      "execution_count": 19,
      "outputs": [
        {
          "output_type": "stream",
          "name": "stdout",
          "text": [
            "영단어 입력 ㄱfuck\n",
            "fuck : 시발\n"
          ]
        }
      ]
    },
    {
      "cell_type": "code",
      "source": [
        "a = (input('가고싶은데 입력 ㄱ:'))\n",
        "b = (input('가고싶은데 입력 ㄱ:'))\n",
        "c = (input('가고싶은데 입력 ㄱ:'))\n",
        "set = {a,b,c}\n",
        "print(f'조사된 여행지는{set}이노')"
      ],
      "metadata": {
        "colab": {
          "base_uri": "https://localhost:8080/"
        },
        "id": "BInIbLJR7uZI",
        "outputId": "a2b918d7-6b4c-43bb-ce80-682a326f1c5c"
      },
      "execution_count": 20,
      "outputs": [
        {
          "output_type": "stream",
          "name": "stdout",
          "text": [
            "가고싶은데 입력 ㄱ:부산\n",
            "가고싶은데 입력 ㄱ:제주도\n",
            "가고싶은데 입력 ㄱ:한라산\n",
            "조사된 여행지는{'한라산', '부산', '제주도'}이노\n"
          ]
        }
      ]
    },
    {
      "cell_type": "code",
      "source": [
        "#복합 대입 연산자.\n",
        "a=1\n",
        "print(a)\n",
        "a=a+1\n",
        "print(a)\n",
        "a+=1\n",
        "print(a)\n",
        "a=a-1\n",
        "print(a)\n",
        "a-=1\n",
        "print(a)\n",
        "\n"
      ],
      "metadata": {
        "colab": {
          "base_uri": "https://localhost:8080/"
        },
        "id": "0zssPKuO90n2",
        "outputId": "d1128a6d-d453-4dc5-d17d-e42565fb902c"
      },
      "execution_count": 24,
      "outputs": [
        {
          "output_type": "stream",
          "name": "stdout",
          "text": [
            "1\n",
            "2\n",
            "3\n",
            "2\n",
            "1\n"
          ]
        }
      ]
    },
    {
      "cell_type": "code",
      "source": [
        "a,b=10,20\n",
        "print('a=%d,b=%d' %(a,b))\n",
        "a,b=b,a#a랑 b값 바꾸고싶으면 이렇게하셈\n",
        "print('a=%d,b=%d' %(a,b))\n"
      ],
      "metadata": {
        "colab": {
          "base_uri": "https://localhost:8080/"
        },
        "id": "9AqLXsMz_7cA",
        "outputId": "d9560c0a-94c5-4166-ea2e-cc940263b9dd"
      },
      "execution_count": 27,
      "outputs": [
        {
          "output_type": "stream",
          "name": "stdout",
          "text": [
            "a=10,b=20\n",
            "a=20,b=10\n",
            "a=10,b=20\n"
          ]
        }
      ]
    },
    {
      "cell_type": "code",
      "source": [
        "1 ==1"
      ],
      "metadata": {
        "colab": {
          "base_uri": "https://localhost:8080/"
        },
        "id": "LdBJLV_YBFtG",
        "outputId": "c5084b5e-5ed2-4a6e-95e1-e5a260942b13"
      },
      "execution_count": 28,
      "outputs": [
        {
          "output_type": "execute_result",
          "data": {
            "text/plain": [
              "True"
            ]
          },
          "metadata": {},
          "execution_count": 28
        }
      ]
    },
    {
      "cell_type": "code",
      "source": [
        "1!=1"
      ],
      "metadata": {
        "colab": {
          "base_uri": "https://localhost:8080/"
        },
        "id": "wm_nq9x9BNR3",
        "outputId": "ccc1daa9-36cb-4f23-8d47-4c2de084cd54"
      },
      "execution_count": 29,
      "outputs": [
        {
          "output_type": "execute_result",
          "data": {
            "text/plain": [
              "False"
            ]
          },
          "metadata": {},
          "execution_count": 29
        }
      ]
    },
    {
      "cell_type": "code",
      "source": [
        "#시퀀스 연산자 : 순서가 있는 구조시퀀스에서 사용됨 리스트 튜플 문자열 레인지\n",
        "[1,2,3] + [6,5,3]"
      ],
      "metadata": {
        "colab": {
          "base_uri": "https://localhost:8080/"
        },
        "id": "sOF-Qt8rBdpd",
        "outputId": "05620cf8-66cf-4871-b698-80d5c341efc3"
      },
      "execution_count": 30,
      "outputs": [
        {
          "output_type": "execute_result",
          "data": {
            "text/plain": [
              "[1, 2, 3, 6, 5, 3]"
            ]
          },
          "metadata": {},
          "execution_count": 30
        }
      ]
    },
    {
      "cell_type": "code",
      "source": [
        "'hello' +' '+ 'python'"
      ],
      "metadata": {
        "colab": {
          "base_uri": "https://localhost:8080/",
          "height": 35
        },
        "id": "lz1dShYoCLUn",
        "outputId": "7c6f715d-7389-4abe-c764-f17fe6fe25f0"
      },
      "execution_count": 33,
      "outputs": [
        {
          "output_type": "execute_result",
          "data": {
            "application/vnd.google.colaboratory.intrinsic+json": {
              "type": "string"
            },
            "text/plain": [
              "'hello python'"
            ]
          },
          "metadata": {},
          "execution_count": 33
        }
      ]
    },
    {
      "cell_type": "code",
      "source": [
        "[1,2,3] *2"
      ],
      "metadata": {
        "colab": {
          "base_uri": "https://localhost:8080/"
        },
        "id": "IdkfH6dwCVyB",
        "outputId": "cfc4d8ea-18d0-4bd9-ea0c-571e26b5742c"
      },
      "execution_count": 35,
      "outputs": [
        {
          "output_type": "execute_result",
          "data": {
            "text/plain": [
              "[1, 2, 3, 1, 2, 3]"
            ]
          },
          "metadata": {},
          "execution_count": 35
        }
      ]
    },
    {
      "cell_type": "code",
      "source": [
        "# 멤버쉽 연산자\n",
        "5 in [1,2,3,4,5]\n"
      ],
      "metadata": {
        "colab": {
          "base_uri": "https://localhost:8080/"
        },
        "id": "g0ewKcTGDF98",
        "outputId": "4d37857e-bf09-4098-e806-4147a269a8f7"
      },
      "execution_count": 39,
      "outputs": [
        {
          "output_type": "execute_result",
          "data": {
            "text/plain": [
              "True"
            ]
          },
          "metadata": {},
          "execution_count": 39
        }
      ]
    },
    {
      "cell_type": "code",
      "source": [
        "5 not in [1,2,3,4,5]"
      ],
      "metadata": {
        "colab": {
          "base_uri": "https://localhost:8080/"
        },
        "id": "GON4GAyMDPlM",
        "outputId": "24aa98a0-b125-4fc1-87e0-97fd33975973"
      },
      "execution_count": 38,
      "outputs": [
        {
          "output_type": "execute_result",
          "data": {
            "text/plain": [
              "False"
            ]
          },
          "metadata": {},
          "execution_count": 38
        }
      ]
    },
    {
      "cell_type": "code",
      "source": [
        "'a' in 'ass'"
      ],
      "metadata": {
        "colab": {
          "base_uri": "https://localhost:8080/"
        },
        "id": "2cGHLsBXDnxC",
        "outputId": "7fd63856-ace6-41d2-9beb-ea2dc738e59b"
      },
      "execution_count": 40,
      "outputs": [
        {
          "output_type": "execute_result",
          "data": {
            "text/plain": [
              "True"
            ]
          },
          "metadata": {},
          "execution_count": 40
        }
      ]
    },
    {
      "cell_type": "code",
      "source": [
        "'a' in {'a':'apple','b':'banana'}"
      ],
      "metadata": {
        "colab": {
          "base_uri": "https://localhost:8080/"
        },
        "id": "2ZGJfM9cDrBS",
        "outputId": "1ea780a7-dafa-424b-857e-a718c538254e"
      },
      "execution_count": 42,
      "outputs": [
        {
          "output_type": "execute_result",
          "data": {
            "text/plain": [
              "True"
            ]
          },
          "metadata": {},
          "execution_count": 42
        }
      ]
    },
    {
      "cell_type": "code",
      "source": [
        "a = int(input('10~99 사이 정수 입력'))\n",
        "print(f'십의자리 숫자:{a//10}\\n일의자리 숫자:{a%10}')"
      ],
      "metadata": {
        "colab": {
          "base_uri": "https://localhost:8080/"
        },
        "id": "9MVzWwpVECbm",
        "outputId": "2c89a255-602a-4dc6-bed1-adf354fd2d03"
      },
      "execution_count": 44,
      "outputs": [
        {
          "output_type": "stream",
          "name": "stdout",
          "text": [
            "10~99 사이 정수 입력45\n",
            "십의자리 숫자:4\n",
            "일의자리 숫자:5\n"
          ]
        }
      ]
    },
    {
      "cell_type": "code",
      "source": [
        "# 응용예제 p 85\n",
        "\n",
        "# 1\n",
        "no = input('10~99사이의 정수를 입력하세요 >>>')\n",
        "\n",
        "print(f'십의 자리 : {no[0]}')\n",
        "print(f'일의 자리 : {no[1]}')"
      ],
      "metadata": {
        "colab": {
          "base_uri": "https://localhost:8080/"
        },
        "id": "gOEBTR9wFSHJ",
        "outputId": "259b7b67-4ea1-4d85-b9af-4bf200602597"
      },
      "execution_count": 45,
      "outputs": [
        {
          "output_type": "stream",
          "name": "stdout",
          "text": [
            "10~99사이의 정수를 입력하세요 >>>45\n",
            "십의 자리 : 4\n",
            "일의 자리 : 5\n"
          ]
        }
      ]
    },
    {
      "cell_type": "code",
      "source": [
        "a = int(input('초 입력 기'))\n",
        "b= a//3600  #시간뺀거\n",
        "c= (a-b*3600)//60  #시간뺴고 분한거\n",
        "d=(a-b*3600-c*60)\n",
        "print(f'{b}시간 {c}분 {d}초')"
      ],
      "metadata": {
        "colab": {
          "base_uri": "https://localhost:8080/"
        },
        "id": "hz0tLA14F8df",
        "outputId": "38abe91b-0c4a-4455-a183-d5dcc386e3bf"
      },
      "execution_count": 57,
      "outputs": [
        {
          "output_type": "stream",
          "name": "stdout",
          "text": [
            "초 입력 기3690\n",
            "1시간 1분 30초\n"
          ]
        }
      ]
    },
    {
      "cell_type": "code",
      "source": [
        "# 2 쌤이한거\n",
        "\n",
        "cho = int(input('초를 입력하세요 >>>'))\n",
        "\n",
        "print(f'변환 결과는 {cho // 3600}시간 {cho % 3600  // 60} 분{cho % 60}초 입니다.')\n",
        "\n",
        "# cho = 3690\n",
        "# # 1시간 = 60분 = 1 * 60 * 60 초 = 3600 초\n",
        "# hour = cho // 3600  # 1시간\n",
        "# minute = cho % 3600  // 60  # 1분\n",
        "# second = cho % 60\n",
        "# print(second)"
      ],
      "metadata": {
        "colab": {
          "base_uri": "https://localhost:8080/"
        },
        "id": "xFP4SbgGGL_j",
        "outputId": "dfd8c777-2cd9-4b75-8e22-efcba780e914"
      },
      "execution_count": 58,
      "outputs": [
        {
          "output_type": "stream",
          "name": "stdout",
          "text": [
            "초를 입력하세요 >>>3690\n",
            "변환 결과는 1시간 1 분30초 입니다.\n"
          ]
        }
      ]
    },
    {
      "cell_type": "code",
      "source": [
        "a = int(input('시ㅏ원번호 입력 네자리 기>'))\n",
        "b=a%10\n",
        "if b>=5 : print(\"근무시간은 오전이노\")\n",
        "else:\n",
        "   print(\"근무시간은 오후노\")"
      ],
      "metadata": {
        "id": "A91Z4-Y-L3LJ"
      },
      "execution_count": null,
      "outputs": []
    },
    {
      "cell_type": "code",
      "source": [
        "#조건문 if \n",
        "#조건문은 특정 조건을 만족하는 지의 여부에 따라 실행되는 코드가 달라져야할때 사요ㅗㅇ\n",
        "\n",
        "a=0\n",
        "if a>0:\n",
        "  print('양수')"
      ],
      "metadata": {
        "id": "dq11Bip8PyxH"
      },
      "execution_count": null,
      "outputs": []
    }
  ]
}