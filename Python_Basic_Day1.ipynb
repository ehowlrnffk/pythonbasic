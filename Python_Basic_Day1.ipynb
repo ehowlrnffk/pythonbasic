{
  "nbformat": 4,
  "nbformat_minor": 0,
  "metadata": {
    "colab": {
      "name": "Python Basic Day1.ipynb",
      "provenance": [],
      "authorship_tag": "ABX9TyN+w835rzfEO1v31iE/TcMd",
      "include_colab_link": true
    },
    "kernelspec": {
      "name": "python3",
      "display_name": "Python 3"
    },
    "language_info": {
      "name": "python"
    }
  },
  "cells": [
    {
      "cell_type": "markdown",
      "metadata": {
        "id": "view-in-github",
        "colab_type": "text"
      },
      "source": [
        "<a href=\"https://colab.research.google.com/github/ehowlrnffk/pythonbasic/blob/main/Python_Basic_Day1.ipynb\" target=\"_parent\"><img src=\"https://colab.research.google.com/assets/colab-badge.svg\" alt=\"Open In Colab\"/></a>"
      ]
    },
    {
      "cell_type": "code",
      "execution_count": null,
      "metadata": {
        "id": "tmTXh0NI16Ws"
      },
      "outputs": [],
      "source": [
        "# 파이썬이란 \n",
        "\n",
        "# 1991 네덜란드 '귀도 반 로섬'에 의해 개발된 언어\n",
        "\n",
        "# 파이썬의 특징\n",
        "# 1) 파이썬은 인터프리터 언어이다. (컴파일러 반대노.) 한줄한줄 바로 실행되는 언어.\n",
        "\n",
        "# 2) 플랫폼에 독립적이다.\n",
        "\n",
        "# 3) 객체 지향 언어이다.\n",
        "\n",
        "# 4) 동적 타이핑 언어이다.\n",
        "\n",
        "# 5) 개발 속도가 빠르다.\n",
        "\n",
        "# *개발환경 - web : colab , local : Anaconda or vs code"
      ]
    },
    {
      "cell_type": "code",
      "source": [
        "# 주석 \n",
        "# 코드에 설명을 작성하는 부분\n",
        "# 주석은 실행에 전혀 영향을 주지않음 ㅇㅇ\n",
        "\n",
        "# 가짜주석 ''' @@@@ ''' 이렇게 할수도있음 읽긴하는데 완전한 주석은 아닌듯 함"
      ],
      "metadata": {
        "id": "NCRAADJG-F2G"
      },
      "execution_count": null,
      "outputs": []
    },
    {
      "cell_type": "code",
      "source": [
        "#변수\n",
        " \n",
        " # score =100     #score이라는 이름의 변수에 백을 넣는거 ㅅㅂ 존나쉬움 ㅇㅇ \n",
        " \n",
        "\n",
        "#  변수 규칙\n",
        "#  1. 영문 한글 숫자 밑줄로 구성\n",
        "#  2.특수문자 사용 금지\n",
        "#  3. 대문자 소문자 구분하셈 ㅇㅇ0.\n",
        "# 4. 예약어 키워드 불가능\n",
        "# 5. 변수명의 첫 문자에는 숫자 금지임 ㅇㅇ   \n",
        "\n",
        "# *소문자를 되도록 쓰자 한글 되도록 쓰지말라* "
      ],
      "metadata": {
        "id": "0PMylVHg_TL3"
      },
      "execution_count": null,
      "outputs": []
    },
    {
      "cell_type": "code",
      "source": [
        "name = 'Alice'\n",
        "age = 25\n",
        "address= '''우편번호 12345\n",
        "서울시 뭐시기\n",
        "뭐시기'''\n",
        "boyfriend = None\n",
        "height = 168.5\n",
        "\n",
        "print(name)\n",
        "print(age)\n",
        "print(address)\n",
        "print(boyfriend)\n",
        "print(height)"
      ],
      "metadata": {
        "colab": {
          "base_uri": "https://localhost:8080/"
        },
        "id": "G6C5l17xJi0L",
        "outputId": "b49f15c4-2336-4b0d-8cfa-3db909152f1b"
      },
      "execution_count": 2,
      "outputs": [
        {
          "output_type": "stream",
          "name": "stdout",
          "text": [
            "Alice\n",
            "25\n",
            "우편번호 12345\n",
            "서울시 뭐시기\n",
            "뭐시기\n",
            "None\n",
            "168.5\n"
          ]
        }
      ]
    }
  ]
}