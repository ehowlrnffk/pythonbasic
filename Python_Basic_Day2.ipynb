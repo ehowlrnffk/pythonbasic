{
  "nbformat": 4,
  "nbformat_minor": 0,
  "metadata": {
    "colab": {
      "name": "Python Basic Day2.ipynb",
      "provenance": [],
      "collapsed_sections": [],
      "authorship_tag": "ABX9TyOku2J7qViMRGSzdxMoLFKj",
      "include_colab_link": true
    },
    "kernelspec": {
      "name": "python3",
      "display_name": "Python 3"
    },
    "language_info": {
      "name": "python"
    }
  },
  "cells": [
    {
      "cell_type": "markdown",
      "metadata": {
        "id": "view-in-github",
        "colab_type": "text"
      },
      "source": [
        "<a href=\"https://colab.research.google.com/github/ehowlrnffk/pythonbasic/blob/main/Python_Basic_Day2.ipynb\" target=\"_parent\"><img src=\"https://colab.research.google.com/assets/colab-badge.svg\" alt=\"Open In Colab\"/></a>"
      ]
    },
    {
      "cell_type": "code",
      "execution_count": null,
      "metadata": {
        "id": "ug42svwh_JQJ"
      },
      "outputs": [],
      "source": [
        "# 3 기본 자료형 \n",
        "\n",
        "# int 정수 1,2,3,4\n",
        "# float 실수 3.14 , 2.18\n",
        "# bool 논리 True, False   (True는 1 False는 0)\n",
        "# str 문자열 '홍길동'"
      ]
    },
    {
      "cell_type": "code",
      "source": [
        "int('100')  #100은 문자임 ㅇㅇ 근데 앞에  int 가 붙으면 진짜 숫자로 변환댐."
      ],
      "metadata": {
        "colab": {
          "base_uri": "https://localhost:8080/"
        },
        "id": "mpq6aYLaAltD",
        "outputId": "a8be8701-2c47-44d2-a4b4-dc05b1bf4771"
      },
      "execution_count": 5,
      "outputs": [
        {
          "output_type": "execute_result",
          "data": {
            "text/plain": [
              "100"
            ]
          },
          "metadata": {},
          "execution_count": 5
        }
      ]
    },
    {
      "cell_type": "code",
      "source": [
        "float(1) "
      ],
      "metadata": {
        "colab": {
          "base_uri": "https://localhost:8080/"
        },
        "id": "tPsAfvsPEkzg",
        "outputId": "b7ddccaf-af93-49ab-ce9b-286bffa480bf"
      },
      "execution_count": 6,
      "outputs": [
        {
          "output_type": "execute_result",
          "data": {
            "text/plain": [
              "1.0"
            ]
          },
          "metadata": {},
          "execution_count": 6
        }
      ]
    },
    {
      "cell_type": "code",
      "source": [
        "float('3.14')   #int 때랑 똑같이 진짜 숫자 변환 ㄱㄴ"
      ],
      "metadata": {
        "colab": {
          "base_uri": "https://localhost:8080/"
        },
        "id": "mwkPm_48EsAX",
        "outputId": "d71d4d7d-88ba-46ed-ed66-5d46167fd5bb"
      },
      "execution_count": 7,
      "outputs": [
        {
          "output_type": "execute_result",
          "data": {
            "text/plain": [
              "3.14"
            ]
          },
          "metadata": {},
          "execution_count": 7
        }
      ]
    },
    {
      "cell_type": "code",
      "source": [
        "bool(' ') #뭐라도있음 트루임 ㅇㅇ "
      ],
      "metadata": {
        "colab": {
          "base_uri": "https://localhost:8080/"
        },
        "id": "haA1egxPFGqY",
        "outputId": "a9a56b09-07d3-4e81-f573-c7c61f4d73c2"
      },
      "execution_count": 8,
      "outputs": [
        {
          "output_type": "execute_result",
          "data": {
            "text/plain": [
              "True"
            ]
          },
          "metadata": {},
          "execution_count": 8
        }
      ]
    },
    {
      "cell_type": "code",
      "source": [
        " bool('') #bool 안에 뭐가 아무것도 없으면 False"
      ],
      "metadata": {
        "colab": {
          "base_uri": "https://localhost:8080/"
        },
        "id": "SGz50_REGdLi",
        "outputId": "24142ef4-2319-411f-869b-984ad58ff901"
      },
      "execution_count": 15,
      "outputs": [
        {
          "output_type": "execute_result",
          "data": {
            "text/plain": [
              "False"
            ]
          },
          "metadata": {},
          "execution_count": 15
        }
      ]
    },
    {
      "cell_type": "code",
      "source": [
        "# 문자열 str, string\n",
        "\n",
        "a = '한국'\n",
        "print(a)\n",
        "b = \"한국\"\n",
        "print(b)\n",
        "\n",
        "str(100)\n"
      ],
      "metadata": {
        "colab": {
          "base_uri": "https://localhost:8080/",
          "height": 72
        },
        "id": "G9HHwtMKGdNb",
        "outputId": "04cd5441-d09e-413e-b2d3-7bbf7caaa19b"
      },
      "execution_count": 24,
      "outputs": [
        {
          "output_type": "stream",
          "name": "stdout",
          "text": [
            "한국\n",
            "한국\n"
          ]
        },
        {
          "output_type": "execute_result",
          "data": {
            "application/vnd.google.colaboratory.intrinsic+json": {
              "type": "string"
            },
            "text/plain": [
              "'100'"
            ]
          },
          "metadata": {},
          "execution_count": 24
        }
      ]
    },
    {
      "cell_type": "code",
      "source": [
        "#문자열 인덱싱 (indexing)\n",
        "# 인덱싱은 모든 문자열을 구성하는 모든 문자에 부여한 고유의 번호\n",
        "\n",
        "s = 'hello'\n",
        "print(s[4])  #인덱스 시작은 0\n",
        "# h e l l o\n",
        "# 0 1 2 3 4 - 각문자의 인덱스 번호\n",
        "\n",
        "print(s[-1]) #인덱스의 마이너스는 바로 맨뒤에서 거꾸로니까 o가되는거임\n",
        "\n",
        "# h  e  l  l  o \n",
        "#-5 -4 -3 -2 -1"
      ],
      "metadata": {
        "colab": {
          "base_uri": "https://localhost:8080/"
        },
        "id": "vUCKzBhJIDJ_",
        "outputId": "cb6e2d93-5c74-44a1-d9de-0f45a15d41a2"
      },
      "execution_count": 27,
      "outputs": [
        {
          "output_type": "stream",
          "name": "stdout",
          "text": [
            "o\n",
            "o\n"
          ]
        }
      ]
    },
    {
      "cell_type": "code",
      "source": [
        "#문자열 슬라이싱 slicing\n",
        "#문자열의 인덱스를 사용하여 한문자 이상으로 구성된 단어나 문장을 추출 \n",
        "# 인덱스는 한글자씩 슬라이싱은 여러글자씩 ㅇㅋ?\n",
        "\n",
        "s= 'banana'\n",
        "s[0:3]  #[시작:미만]\n",
        "\n"
      ],
      "metadata": {
        "colab": {
          "base_uri": "https://localhost:8080/",
          "height": 35
        },
        "id": "G4IV8W92OAEe",
        "outputId": "e18b4fee-6b59-4583-c5cd-01a3ec279906"
      },
      "execution_count": 31,
      "outputs": [
        {
          "output_type": "execute_result",
          "data": {
            "application/vnd.google.colaboratory.intrinsic+json": {
              "type": "string"
            },
            "text/plain": [
              "'ban'"
            ]
          },
          "metadata": {},
          "execution_count": 31
        }
      ]
    },
    {
      "cell_type": "code",
      "source": [
        "addr = '서울시 강남구 역삼동 1번지'\n",
        "print(addr[4:7])\n",
        "\n",
        "# 슬라이스할떄 그다음거 하나까지 표시해주기 ㅇㅋ? 미만이라고 생각하면 됨"
      ],
      "metadata": {
        "colab": {
          "base_uri": "https://localhost:8080/"
        },
        "id": "4gJdXgN4PvEI",
        "outputId": "7a89bca5-f839-4b71-9043-1ba193c8e356"
      },
      "execution_count": 32,
      "outputs": [
        {
          "output_type": "stream",
          "name": "stdout",
          "text": [
            "강남구\n"
          ]
        }
      ]
    },
    {
      "cell_type": "code",
      "source": [
        "# 컬렉션  \n",
        "# '여러 값을 하나의 이름으로 묶어서 관리하는 자료형'\n",
        "# 리스트 list 듀플 tuple 딕셔너리 dict 세개가 있노\n"
      ],
      "metadata": {
        "id": "tBqyuPziQZHY"
      },
      "execution_count": null,
      "outputs": []
    },
    {
      "cell_type": "code",
      "source": [
        "# 리스트 list\n",
        "# 리스트는 여러 값을 저장할때 가장 많이 사용되는 자료형이다.\n",
        "# 특징\n",
        "# 대괄호로 생성한다. []\n",
        "# 여러가지 자료형을 하나 리스트로 생성 ㄱㄴ\n",
        "# mutable 한 속성을 갖는다. (수정 가능, 삭제 가능)\n",
        "# indexing , slicing 이 가능함\n",
        "\n",
        "\n",
        "\n",
        "list1 = [1,2,3,4]\n",
        "list2=[1,2,3,'데','한',True]\n",
        "\n",
        "print(list2[3])    #인덱싱 한거고\n",
        "\n",
        "print(list2[0:4]) # 슬라이싱 한거임 ㅇㅇ"
      ],
      "metadata": {
        "colab": {
          "base_uri": "https://localhost:8080/"
        },
        "id": "zxc_PgkqRHjb",
        "outputId": "5beaac9e-9198-4366-bda0-f8ff97eb35b2"
      },
      "execution_count": 36,
      "outputs": [
        {
          "output_type": "stream",
          "name": "stdout",
          "text": [
            "데\n",
            "[1, 2, 3, '데']\n"
          ]
        }
      ]
    },
    {
      "cell_type": "code",
      "source": [
        "#append() - 추가할때 쓰3 list에서만쓴단다\n",
        "\n",
        "scores = [51,46,29]\n",
        "scores.append(99) #스코어의 리스트에 99를 추가한거임\n",
        "scores"
      ],
      "metadata": {
        "colab": {
          "base_uri": "https://localhost:8080/"
        },
        "id": "0Gv36o0NVhC9",
        "outputId": "23d6cb5e-4f97-4de5-cc7d-c75679417ccb"
      },
      "execution_count": 57,
      "outputs": [
        {
          "output_type": "execute_result",
          "data": {
            "text/plain": [
              "[51, 46, 29, 99]"
            ]
          },
          "metadata": {},
          "execution_count": 57
        }
      ]
    },
    {
      "cell_type": "code",
      "source": [
        "#insert() - 이것도 리스트에 데이터 추가\n",
        "scores = [51,46,29]\n",
        "scores. insert(0,90) # 특정위치에 데이터를 추가\n",
        "scores"
      ],
      "metadata": {
        "colab": {
          "base_uri": "https://localhost:8080/"
        },
        "id": "QhsgRjVIW5iI",
        "outputId": "f31a6476-b9ba-4460-a32c-a907cb9b03dc"
      },
      "execution_count": 43,
      "outputs": [
        {
          "output_type": "execute_result",
          "data": {
            "text/plain": [
              "[90, 51, 46, 29]"
            ]
          },
          "metadata": {},
          "execution_count": 43
        }
      ]
    },
    {
      "cell_type": "code",
      "source": [
        "# pop() - 리스트에서 데이터 삭제\n",
        "scores = [50,40,29]\n",
        "scores.pop() # 아무것도 안쓰면 마지막꺼 삭제\n",
        "scores"
      ],
      "metadata": {
        "colab": {
          "base_uri": "https://localhost:8080/"
        },
        "id": "DOWMySvWaR5V",
        "outputId": "576931d5-9cb5-4bbb-d848-232c32a0a17b"
      },
      "execution_count": 44,
      "outputs": [
        {
          "output_type": "execute_result",
          "data": {
            "text/plain": [
              "[50, 40]"
            ]
          },
          "metadata": {},
          "execution_count": 44
        }
      ]
    },
    {
      "cell_type": "code",
      "source": [
        "scores = [50,40,29]\n",
        "scores.pop(0) # 아무것도 안쓰면 마지막꺼 삭제\n",
        "scores"
      ],
      "metadata": {
        "colab": {
          "base_uri": "https://localhost:8080/"
        },
        "id": "91jnAMhPang6",
        "outputId": "3a54b1a6-a290-4d00-abe4-0c88bc4186a2"
      },
      "execution_count": 45,
      "outputs": [
        {
          "output_type": "execute_result",
          "data": {
            "text/plain": [
              "[40, 29]"
            ]
          },
          "metadata": {},
          "execution_count": 45
        }
      ]
    },
    {
      "cell_type": "code",
      "source": [
        "# 튜플 tuple\n",
        "# 저장된 값을 변경 할 수 없는 리스트\n",
        "\n",
        "# 특징\n",
        "# 소괄호로 생성\n",
        "# 여러가지 자료형을 하나의 튜플로 생성 할 수 있다.\n",
        "# immutable이란 속성을 갖는다. (수정,삭제 불가능)\n",
        "# indexing, slicing 가능\n",
        "\n",
        "\n",
        "tu =(1,)    # 1개의 원소를 갖는 튜플을 생성할때는 , 쉼표를 붙인다. 안붙이면 클래스가 튜플인지를 몰라\n",
        "print(tu)\n",
        "print(type(tu))"
      ],
      "metadata": {
        "colab": {
          "base_uri": "https://localhost:8080/"
        },
        "id": "uvcLNitSawQI",
        "outputId": "717c8eb5-39ae-4050-afaa-42a50252d762"
      },
      "execution_count": 48,
      "outputs": [
        {
          "output_type": "stream",
          "name": "stdout",
          "text": [
            "(1,)\n",
            "<class 'tuple'>\n"
          ]
        }
      ]
    },
    {
      "cell_type": "code",
      "source": [
        "tu = 1,2,3,4,5,\n",
        "type(tu)"
      ],
      "metadata": {
        "colab": {
          "base_uri": "https://localhost:8080/"
        },
        "id": "8UexkcyTcURH",
        "outputId": "ec3856ab-9eb5-41db-b36c-32ea1dc02100"
      },
      "execution_count": 50,
      "outputs": [
        {
          "output_type": "execute_result",
          "data": {
            "text/plain": [
              "(1, 2, 3, 4, 5)"
            ]
          },
          "metadata": {},
          "execution_count": 50
        }
      ]
    },
    {
      "cell_type": "code",
      "source": [
        "tu = 1,2,3,4,5,\n",
        "tu[0]"
      ],
      "metadata": {
        "colab": {
          "base_uri": "https://localhost:8080/"
        },
        "id": "SPZuswtqdeRS",
        "outputId": "1a2e4fd6-2cf0-44fc-8cff-9dfafe5f7efa"
      },
      "execution_count": 51,
      "outputs": [
        {
          "output_type": "execute_result",
          "data": {
            "text/plain": [
              "1"
            ]
          },
          "metadata": {},
          "execution_count": 51
        }
      ]
    },
    {
      "cell_type": "code",
      "source": [
        "tu = 1,2,3,4,5,\n",
        "tu[0:3]"
      ],
      "metadata": {
        "colab": {
          "base_uri": "https://localhost:8080/"
        },
        "id": "0ES3kYJvdgwT",
        "outputId": "20f1019c-025e-4ff4-de8a-8e535eaed386"
      },
      "execution_count": 53,
      "outputs": [
        {
          "output_type": "execute_result",
          "data": {
            "text/plain": [
              "(1, 2, 3)"
            ]
          },
          "metadata": {},
          "execution_count": 53
        }
      ]
    },
    {
      "cell_type": "code",
      "source": [
        "# Set\n",
        "\n",
        "# 특징\n",
        "# 중괄호로 생성 {}\n",
        "# 여러가지 자료형을 하나의 set로 생성 할 수 있다.\n",
        "# mutable이란 속성을 갖는다. (수정,삭제 가능)\n",
        "# indexing, slicing 불가능, 순서가 없어서 안댄대\n",
        "# 중복하는 데이터 저장 없다. 딴건 되나바 \n",
        "\n",
        "set = {1,1,1,2,2,3}\n",
        "set"
      ],
      "metadata": {
        "colab": {
          "base_uri": "https://localhost:8080/"
        },
        "id": "evZv4dj4eO4J",
        "outputId": "3ec3a295-6933-4642-bde8-a09ee1576f36"
      },
      "execution_count": 67,
      "outputs": [
        {
          "output_type": "execute_result",
          "data": {
            "text/plain": [
              "{1, 2, 3}"
            ]
          },
          "metadata": {},
          "execution_count": 67
        }
      ]
    },
    {
      "cell_type": "code",
      "source": [
        "set.add(4)\n",
        "set"
      ],
      "metadata": {
        "colab": {
          "base_uri": "https://localhost:8080/"
        },
        "id": "_sOlT8Xofqrb",
        "outputId": "ad078383-9760-4dd4-82e6-0216d6ae4501"
      },
      "execution_count": 68,
      "outputs": [
        {
          "output_type": "execute_result",
          "data": {
            "text/plain": [
              "{1, 2, 3, 4}"
            ]
          },
          "metadata": {},
          "execution_count": 68
        }
      ]
    },
    {
      "cell_type": "code",
      "source": [
        "set.remove(3)\n",
        "set"
      ],
      "metadata": {
        "colab": {
          "base_uri": "https://localhost:8080/"
        },
        "id": "u7qAjOQbf9lG",
        "outputId": "887b3bf7-c2db-419a-8f74-75bd02c17079"
      },
      "execution_count": 69,
      "outputs": [
        {
          "output_type": "execute_result",
          "data": {
            "text/plain": [
              "{1, 2, 4}"
            ]
          },
          "metadata": {},
          "execution_count": 69
        }
      ]
    },
    {
      "cell_type": "code",
      "source": [
        "#dict 키값과 벨류값의 쌍으로 데이터를 저장하는 자료형 \n",
        "# 자바에서의 map, JS 에서의 json 과 유사한 파이썬의 자료형\n",
        "\n",
        "# 특징\n",
        "# 중괄호로 생성 {}\n",
        "# 여러가지 자료형을 하나의 dictionary로 생성 할 수 있다.\n",
        "# mutable이란 속성을 갖는다. (수정,삭제 가능)\n",
        "# indexing, slicing 불가능, 순서가 없어서 안댄대\n",
        "# 키값과 벨류값의 쌍으로 데이터를 저장하는 자료형 \n",
        "\n",
        "\n",
        "dict = {'name':'구국','age': 24}\n",
        "dict['name']\n",
        "dict['age']"
      ],
      "metadata": {
        "colab": {
          "base_uri": "https://localhost:8080/"
        },
        "id": "3C2I0s6LgNxk",
        "outputId": "411d523c-3890-4dfb-862e-71ac7cf3075b"
      },
      "execution_count": 73,
      "outputs": [
        {
          "output_type": "execute_result",
          "data": {
            "text/plain": [
              "24"
            ]
          },
          "metadata": {},
          "execution_count": 73
        }
      ]
    },
    {
      "cell_type": "code",
      "source": [
        "dict['c'] = 'ccccccccc'\n",
        "dict"
      ],
      "metadata": {
        "colab": {
          "base_uri": "https://localhost:8080/"
        },
        "id": "5Ny7R043hma4",
        "outputId": "ad5544b3-1759-423f-facf-4009716d1e85"
      },
      "execution_count": 74,
      "outputs": [
        {
          "output_type": "execute_result",
          "data": {
            "text/plain": [
              "{'age': 24, 'c': 'ccccccccc', 'name': '구국'}"
            ]
          },
          "metadata": {},
          "execution_count": 74
        }
      ]
    },
    {
      "cell_type": "code",
      "source": [
        "dict.pop('c')\n",
        "dict"
      ],
      "metadata": {
        "colab": {
          "base_uri": "https://localhost:8080/"
        },
        "id": "daGN66o2ivPc",
        "outputId": "ba8f2fd7-d41a-4136-8be6-418f61a74206"
      },
      "execution_count": 76,
      "outputs": [
        {
          "output_type": "execute_result",
          "data": {
            "text/plain": [
              "{'age': 24, 'name': '구국'}"
            ]
          },
          "metadata": {},
          "execution_count": 76
        }
      ]
    },
    {
      "cell_type": "code",
      "source": [
        "me = [1,2,3]\n",
        "id(me) #실제 데이터가 저장된 메모리 위치래 그니까 1,2,3 이 어디에 저장되어있나 그거말해주는듯"
      ],
      "metadata": {
        "colab": {
          "base_uri": "https://localhost:8080/"
        },
        "id": "jzl5PKHqjh1A",
        "outputId": "79eb0844-b4af-4bf8-da1f-baa67313c22a"
      },
      "execution_count": 77,
      "outputs": [
        {
          "output_type": "execute_result",
          "data": {
            "text/plain": [
              "139815087789872"
            ]
          },
          "metadata": {},
          "execution_count": 77
        }
      ]
    },
    {
      "cell_type": "code",
      "source": [
        "me.append(4)\n",
        "id(me) #같은 위치노 이건 리스트가 mutable하다는거고 ㅇㅋ?"
      ],
      "metadata": {
        "colab": {
          "base_uri": "https://localhost:8080/"
        },
        "id": "VHu-fZQOjuBM",
        "outputId": "c47784d6-be5d-4128-852f-f62d59487513"
      },
      "execution_count": 78,
      "outputs": [
        {
          "output_type": "execute_result",
          "data": {
            "text/plain": [
              "139815087789872"
            ]
          },
          "metadata": {},
          "execution_count": 78
        }
      ]
    },
    {
      "cell_type": "code",
      "source": [
        "me = 10\n",
        "id(me)"
      ],
      "metadata": {
        "colab": {
          "base_uri": "https://localhost:8080/"
        },
        "id": "IpEV4i73kE-t",
        "outputId": "94a12fd4-bdbf-44a1-e749-5a75f90c0751"
      },
      "execution_count": 79,
      "outputs": [
        {
          "output_type": "execute_result",
          "data": {
            "text/plain": [
              "94380254747424"
            ]
          },
          "metadata": {},
          "execution_count": 79
        }
      ]
    },
    {
      "cell_type": "code",
      "source": [
        "me += 1 # me = me+1 같은거 이걸왜모르노 ㅋ ㅋ \n",
        "id(me) # 다른위치노 이게 정수가 immutable하다는거래"
      ],
      "metadata": {
        "colab": {
          "base_uri": "https://localhost:8080/"
        },
        "id": "FIz6rySVkRgU",
        "outputId": "6013c972-c10e-4614-a53f-c1ea227a2488"
      },
      "execution_count": 80,
      "outputs": [
        {
          "output_type": "execute_result",
          "data": {
            "text/plain": [
              "94380254747456"
            ]
          },
          "metadata": {},
          "execution_count": 80
        }
      ]
    }
  ]
}