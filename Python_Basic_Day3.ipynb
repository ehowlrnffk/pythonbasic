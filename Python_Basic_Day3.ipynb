{
  "nbformat": 4,
  "nbformat_minor": 0,
  "metadata": {
    "colab": {
      "name": "Python Basic Day3.ipynb",
      "provenance": [],
      "authorship_tag": "ABX9TyNrdBl5PXu0YvJmjlDRO8+f",
      "include_colab_link": true
    },
    "kernelspec": {
      "name": "python3",
      "display_name": "Python 3"
    },
    "language_info": {
      "name": "python"
    }
  },
  "cells": [
    {
      "cell_type": "markdown",
      "metadata": {
        "id": "view-in-github",
        "colab_type": "text"
      },
      "source": [
        "<a href=\"https://colab.research.google.com/github/ehowlrnffk/pythonbasic/blob/main/Python_Basic_Day3.ipynb\" target=\"_parent\"><img src=\"https://colab.research.google.com/assets/colab-badge.svg\" alt=\"Open In Colab\"/></a>"
      ]
    },
    {
      "cell_type": "code",
      "execution_count": null,
      "metadata": {
        "id": "rGtCyyKYS2jt"
      },
      "outputs": [],
      "source": [
        "# list tuple dict set\n",
        "\n",
        "# list [] indexing/slicing    mutable(삭제,수정)    [1]\n",
        "\n",
        "#tuple () indexing/slicing    immutable   (안에 하나있음쉼표하나 붙여줘야댐 ㅇㅇ) {1,}\n",
        "\n",
        "#dict  {}    X순서가없어      mutable               {'key':'value}\n",
        "\n",
        "#set   {}    x순서없음        mutable           {1.2.3                }"
      ]
    },
    {
      "cell_type": "code",
      "source": [
        "#1 \n",
        "no = '31025'\n",
        "a=no[0]  #indexing\n",
        "b=no[1:3] #slicing\n",
        "c=no[3:5] #slicing\n",
        "print(a,'학년',b,'반',c,'번호') \n",
        "print(f'{a} 학년 {b} 반 {c}번호') #f 스트링\n",
        "\n"
      ],
      "metadata": {
        "id": "MDQEScb6Vo66",
        "colab": {
          "base_uri": "https://localhost:8080/"
        },
        "outputId": "55ac170c-00b0-410d-d3fc-95e67af7ae06"
      },
      "execution_count": 13,
      "outputs": [
        {
          "output_type": "stream",
          "name": "stdout",
          "text": [
            "3 학년 10 반 25 번호\n",
            "3 학년 10 반 25번호\n"
          ]
        }
      ]
    },
    {
      "cell_type": "code",
      "source": [
        "s= '서울2가1234'\n",
        "s4 = s[-4:]\n",
        "print(s,'의 번호 4는',s4)\n",
        "print(f'{s} 의 번호 4는 {s4}')\n"
      ],
      "metadata": {
        "colab": {
          "base_uri": "https://localhost:8080/"
        },
        "id": "-Q1dm8DXY6DU",
        "outputId": "d2952784-444f-48e7-ffd3-f12f41cabf50"
      },
      "execution_count": 26,
      "outputs": [
        {
          "output_type": "stream",
          "name": "stdout",
          "text": [
            "서울2가1234 의 번호 4는 1234\n",
            "서울2가1234 의 번호 4는 1234\n"
          ]
        }
      ]
    },
    {
      "cell_type": "code",
      "source": [
        "s= 'maple'\n",
        "s1=len(s)/2 \n",
        "# (여기서 /2가 아니라 //2하면 소수점 떨어져나감)\n",
        "s2= s[int(s1)]\n",
        "print(s,'의 중간 글자는',s2)\n",
        "print(f'{s} 의 중간 글자는 {s2}')"
      ],
      "metadata": {
        "colab": {
          "base_uri": "https://localhost:8080/"
        },
        "id": "kAkXiQj5avwl",
        "outputId": "7806b15f-a1cc-4ace-a793-764497529088"
      },
      "execution_count": 33,
      "outputs": [
        {
          "output_type": "stream",
          "name": "stdout",
          "text": [
            "maple 의 중간 글자는 p\n",
            "maple 의 중간 글자는 p\n"
          ]
        }
      ]
    },
    {
      "cell_type": "code",
      "source": [
        "# 3  정석???이랄까 쌤이 한거임 이거ㅏㄴ\n",
        "s = 'maple'  #가운데 p출력\n",
        "center = s[len(s) // 2] # // 나머지를 버리고 몫만 취한다 \n",
        "                     #  % 몫은 버리고 나머지만 취한다 (홀/짝/배)\n",
        "print(center)"
      ],
      "metadata": {
        "colab": {
          "base_uri": "https://localhost:8080/"
        },
        "id": "N4MAq5tvcwoy",
        "outputId": "aabbd0c8-dead-40fe-b2b6-8b8a25a32326"
      },
      "execution_count": 34,
      "outputs": [
        {
          "output_type": "stream",
          "name": "stdout",
          "text": [
            "p\n"
          ]
        }
      ]
    },
    {
      "cell_type": "code",
      "source": [
        "#4\n",
        "\n",
        "list = [10,20,30,40,50,60,70,80,90,100]\n",
        "a=list[2:7]\n",
        "b=a[1]\n",
        "print('3번쨰부터 요소부터 7번쨰 요소 =',a)\n",
        "print('a에서 두번째요소 =',b)\n",
        "\n",
        "print(f'3번쨰 요소부터 7번쨰 요소={a}\\na에서 두번쨰 요소= {b}')\n"
      ],
      "metadata": {
        "colab": {
          "base_uri": "https://localhost:8080/"
        },
        "id": "h7ZPMPhlfUgZ",
        "outputId": "edfccca7-be55-4cb4-c82d-16aba310e765"
      },
      "execution_count": 43,
      "outputs": [
        {
          "output_type": "stream",
          "name": "stdout",
          "text": [
            "3번쨰부터 요소부터 7번쨰 요소 = [30, 40, 50, 60, 70]\n",
            "a에서 두번째요소 = 40\n",
            "3번쨰 요소부터 7번쨰 요소=[30, 40, 50, 60, 70]\n",
            "a에서 두번쨰 요소= 40\n"
          ]
        }
      ]
    },
    {
      "cell_type": "code",
      "source": [
        "#4 정석 간단하게하는법\n",
        "\n",
        "li1 = [10,20,30,40,50,60,70,80,90,100]\n",
        "\n",
        "print('3번째 요소부터 7번째 요소 = ',li1[2:7])\n",
        "print('3번째 요소부터 7번째 요소 중 2번째 요소 = ',li1[2:7])"
      ],
      "metadata": {
        "colab": {
          "base_uri": "https://localhost:8080/"
        },
        "id": "aiMXeRDpgs6d",
        "outputId": "f95474aa-8148-4402-a91c-ef4583bb6c22"
      },
      "execution_count": 45,
      "outputs": [
        {
          "output_type": "stream",
          "name": "stdout",
          "text": [
            "3번째 요소부터 7번째 요소 =  [30, 40, 50, 60, 70]\n",
            "3번째 요소부터 7번째 요소 중 2번째 요소 =  [30, 40, 50, 60, 70]\n"
          ]
        }
      ]
    },
    {
      "cell_type": "code",
      "source": [
        "#5\n",
        "\n",
        "\n",
        "dict = {'금요일':'짜장면'}\n",
        "dict1 = {'토요일':'짬뽕'}\n",
        "dict2 = {'일요일':'탕수육'}\n",
        "print(f'{dict}\\n{dict1}\\n{dict2}')"
      ],
      "metadata": {
        "colab": {
          "base_uri": "https://localhost:8080/"
        },
        "id": "MKGRuIRugxfQ",
        "outputId": "d249a372-39f3-4f85-c182-1aa925e365cd"
      },
      "execution_count": 47,
      "outputs": [
        {
          "output_type": "stream",
          "name": "stdout",
          "text": [
            "{'금요일': '짜장면'}\n",
            "{'토요일': '짬뽕'}\n",
            "{'일요일': '탕수육'}\n"
          ]
        }
      ]
    },
    {
      "cell_type": "code",
      "source": [
        "#5 이게정석이노 난 그냥 문자그자체를 프린트한거임\n",
        "\n",
        "dict = {'금요일':'탕수육',\n",
        "        '토요일':'유산슬',\n",
        "        '일요일':'팔보채'}\n",
        "\n",
        "print('금요일 :',dict['금요일'])\n",
        "print('토요일 :',dict['토요일'])\n",
        "print('일요일 :',dict['일요일'])"
      ],
      "metadata": {
        "colab": {
          "base_uri": "https://localhost:8080/"
        },
        "id": "F4OjSWYChP9X",
        "outputId": "29e3edde-7503-4afd-df4c-7ba47e3e132a"
      },
      "execution_count": 48,
      "outputs": [
        {
          "output_type": "stream",
          "name": "stdout",
          "text": [
            "금요일 : 탕수육\n",
            "토요일 : 유산슬\n",
            "일요일 : 팔보채\n"
          ]
        }
      ]
    },
    {
      "cell_type": "code",
      "source": [
        "# \\n 줄바꿈  line feed\n",
        "# \\t 탭      tab\n",
        "# \\' 하면 작은따옴표의 의미가 사라짐\n",
        "\n",
        "print('Hello \\'World\\'')\n",
        "print(\"Hello 'World'\") #큰따옴표안에 작은다옴표나 그반대면 서로 의미 상실 ㄱㄴ 예 아래\n",
        "\n",
        "print(\"Hello \\\"World\\\"\")\n",
        "print('Hello \"World\"')"
      ],
      "metadata": {
        "colab": {
          "base_uri": "https://localhost:8080/"
        },
        "id": "_cdhRMZCiWK-",
        "outputId": "ca4d2396-22da-4deb-d08b-765cdea4cbd5"
      },
      "execution_count": 50,
      "outputs": [
        {
          "output_type": "stream",
          "name": "stdout",
          "text": [
            "Hello 'World'\n",
            "Hello 'World'\n",
            "Hello \"World\"\n",
            "Hello \"World\"\n"
          ]
        }
      ]
    },
    {
      "cell_type": "code",
      "source": [
        "# print() 함수\n",
        "\n",
        "print('재미있는','파이썬')\n",
        "print('재미있는','파이썬',sep=',') # sep는 구분자래 그냥 글자사이에 구분짓는거임 ㅇㅇ\n",
        "print('재미있는','파이썬',sep='/')\n"
      ],
      "metadata": {
        "colab": {
          "base_uri": "https://localhost:8080/"
        },
        "id": "EpR62OYrlR4U",
        "outputId": "0ddfba57-5d6e-4fed-a38c-93b5ebc76cb5"
      },
      "execution_count": 51,
      "outputs": [
        {
          "output_type": "stream",
          "name": "stdout",
          "text": [
            "재미있는 파이썬\n",
            "재미있는,파이썬\n"
          ]
        }
      ]
    },
    {
      "cell_type": "code",
      "source": [
        "print('영화 타이타닉')\n",
        "print('평점' , end='') #end는 넘어가지 않게하는거임 그다음 글자를 \n",
        "print('5점')"
      ],
      "metadata": {
        "colab": {
          "base_uri": "https://localhost:8080/"
        },
        "id": "RP_3tMammZ7E",
        "outputId": "d38e92a6-323e-4570-b675-831b5f5b1b1c"
      },
      "execution_count": 52,
      "outputs": [
        {
          "output_type": "stream",
          "name": "stdout",
          "text": [
            "영화 타이타닉\n",
            "평점5점\n"
          ]
        }
      ]
    },
    {
      "cell_type": "code",
      "source": [
        "# %연산자 (비추래)\n",
        "\n",
        "print('%d' % 11)   # %d 정수 10진수 자리표시자 decima라는 뜻이래 걍 각각의 뜻 이 있는거네 %@라는게\n",
        "print('%o' % 10)   # %o 정수 8진수 자리표시자\n",
        "print('%x' % 10)   # %x 정수 16진수 자리표시자\n",
        "\n",
        "print('%f' % 3.14)\n",
        "print('%s' % 'python')\n"
      ],
      "metadata": {
        "colab": {
          "base_uri": "https://localhost:8080/"
        },
        "id": "qXg2wCMiotVX",
        "outputId": "efd860de-f5d2-4bee-d54a-68de2a0d1dbd"
      },
      "execution_count": 56,
      "outputs": [
        {
          "output_type": "stream",
          "name": "stdout",
          "text": [
            "11\n",
            "12\n",
            "a\n",
            "3.140000\n",
            "python\n"
          ]
        }
      ]
    },
    {
      "cell_type": "code",
      "source": [
        "print('%5d'%1)#다섯칸 확보하고 오른쪽에 1넣음 \n",
        "print('%-5d'%1)#다섯칸 확보하고 왼쪽에  1넣음 \n",
        "print('%d'%1)\n",
        "\n",
        "\n",
        "print('%f' % 3.14)\n",
        "print('%5.2f' % 3.14) #다섯칸을 확보하고 소수 2자리까지 오른쪽에 출력하는거임\n",
        "print('%.1f' % 3.14)"
      ],
      "metadata": {
        "colab": {
          "base_uri": "https://localhost:8080/"
        },
        "id": "gKfSVMb0tWFB",
        "outputId": "6f995a1f-3265-4b73-c5c1-20637ec56ee3"
      },
      "execution_count": 66,
      "outputs": [
        {
          "output_type": "stream",
          "name": "stdout",
          "text": [
            "    1\n",
            "1    \n",
            "1\n",
            "3.140000\n",
            " 3.14\n",
            "3.1\n"
          ]
        }
      ]
    },
    {
      "cell_type": "code",
      "source": [
        "a='학생'\n",
        "\n",
        "# 기본 출력 방법\n",
        "print(a,'입니다.')\n",
        "\n",
        "# f string 출력 방법\n",
        "print(f'{a} 입니다.')\n",
        "\n",
        "# %  연산자 출력 방법\n",
        "print('%s 입니다.' % a)\n",
        "\n",
        "# format() 출력 방법\n",
        "print('{} 입니다.'.format(a))"
      ],
      "metadata": {
        "colab": {
          "base_uri": "https://localhost:8080/"
        },
        "id": "Umge-GaHvDWh",
        "outputId": "464e4871-0adc-4598-ac0d-80f6c49362e2"
      },
      "execution_count": 68,
      "outputs": [
        {
          "output_type": "stream",
          "name": "stdout",
          "text": [
            "학생 입니다.\n",
            "학생 입니다.\n",
            "학생 입니다.\n",
            "학생 입니다.\n"
          ]
        }
      ]
    },
    {
      "cell_type": "code",
      "source": [
        "#format() 매서드\n",
        "\n",
        "print('My name is {}'.format('dd'))\n",
        "print('My name is {0}'.format('dd'))\n",
        "print('My name is {gb}\\n'.format(gb='dd'))\n",
        "\n",
        "print('My name is {}. I\\'m {} years old.'.format('James', 20))\n",
        "print('My name is {name}. I\\'m {age} years old.'.format(name='James', age=20))"
      ],
      "metadata": {
        "colab": {
          "base_uri": "https://localhost:8080/"
        },
        "id": "3UT8hq7OwaXa",
        "outputId": "872b7dcc-35eb-4e4f-acd1-07712008d87f"
      },
      "execution_count": 78,
      "outputs": [
        {
          "output_type": "stream",
          "name": "stdout",
          "text": [
            "My name is dd\n",
            "My name is dd\n",
            "My name is dd\n",
            "\n",
            "My name is James. I'm 20 years old.\n",
            "My name is James. I'm 20 years old.\n"
          ]
        }
      ]
    },
    {
      "cell_type": "code",
      "source": [
        "#f string\n",
        "\n",
        "who = 'you'\n",
        "now = 'happy'\n",
        "\n",
        "print(f'{who} are {now}')\n",
        "\n",
        "age =21\n",
        "print(f'내년엔 {age+1}살이 댐')"
      ],
      "metadata": {
        "colab": {
          "base_uri": "https://localhost:8080/"
        },
        "id": "PHuZKsMsx7FK",
        "outputId": "09f13bcb-957d-4d3e-ca08-bf3629fb74c8"
      },
      "execution_count": 80,
      "outputs": [
        {
          "output_type": "stream",
          "name": "stdout",
          "text": [
            "you are happy\n",
            "내년엔 22살이 댐\n"
          ]
        }
      ]
    },
    {
      "cell_type": "code",
      "source": [
        "# 표준입력\n",
        "\n",
        "a = input()\n",
        "print(a)"
      ],
      "metadata": {
        "colab": {
          "base_uri": "https://localhost:8080/"
        },
        "id": "2WBfHw2ozXpX",
        "outputId": "c189c289-3bc9-4a7c-a579-11224f30f8b3"
      },
      "execution_count": 81,
      "outputs": [
        {
          "output_type": "stream",
          "name": "stdout",
          "text": [
            "ㄴㄷㅌ\n",
            "ㄴㄷㅌ\n"
          ]
        }
      ]
    },
    {
      "cell_type": "code",
      "source": [
        "n=input('우앙 입력하셈')\n",
        "print(n)"
      ],
      "metadata": {
        "colab": {
          "base_uri": "https://localhost:8080/"
        },
        "id": "ONh9gzFozajr",
        "outputId": "e8c49354-73fa-4202-ae81-28c9ebe852c2"
      },
      "execution_count": 82,
      "outputs": [
        {
          "output_type": "stream",
          "name": "stdout",
          "text": [
            "우앙 입력하셈affafafafaf\n",
            "affafafafaf\n"
          ]
        }
      ]
    },
    {
      "cell_type": "code",
      "source": [
        "n=input('이름 입력하셈::')\n",
        "age=input('나이 입력하셈::')\n",
        "\n",
        "print('이름은 {}'.format(n))\n",
        "print('나이는 {}'.format(age))\n",
        "\n",
        "print('이름은',n)\n",
        "print('나이는',age)\n",
        "\n",
        "print(f'이름은 {n}\\n나이는 {age}')\n",
        "\n",
        "print('이름은 %s'%n)\n",
        "print('이름은 %s'%age)\n",
        "\n",
        "\n"
      ],
      "metadata": {
        "colab": {
          "base_uri": "https://localhost:8080/"
        },
        "id": "yDB_APYgzv63",
        "outputId": "20b1a74b-daba-47a7-8811-6f50d174a68f"
      },
      "execution_count": 93,
      "outputs": [
        {
          "output_type": "stream",
          "name": "stdout",
          "text": [
            "이름 입력하셈::ㄱㅊㄱㅊ\n",
            "나이 입력하셈::ㅗㅜㅗㅜ\n",
            "이름은 ㄱㅊㄱㅊ\n",
            "나이는 ㅗㅜㅗㅜ\n",
            "이름은 ㄱㅊㄱㅊ\n",
            "나이는 ㅗㅜㅗㅜ\n",
            "이름은 ㄱㅊㄱㅊ\n",
            "나이는 ㅗㅜㅗㅜ\n",
            "이름은 ㄱㅊㄱㅊ\n",
            "이름은 ㅗㅜㅗㅜ\n"
          ]
        }
      ]
    }
  ]
}